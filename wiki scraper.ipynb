{
 "cells": [
  {
   "cell_type": "code",
   "execution_count": null,
   "metadata": {},
   "outputs": [],
   "source": [
    "from bs4 import BeautifulSoup\n",
    "import requests\n",
    "import requests.exceptions\n",
    "from urllib.parse import urlsplit\n",
    "from urllib.parse import urlparse\n",
    "from collections import deque\n",
    "import sqlite3\n",
    "import wikipedia"
   ]
  },
  {
   "cell_type": "code",
   "execution_count": 10,
   "metadata": {},
   "outputs": [],
   "source": []
  },
  {
   "cell_type": "code",
   "execution_count": 20,
   "metadata": {},
   "outputs": [],
   "source": []
  },
  {
   "cell_type": "code",
   "execution_count": 32,
   "metadata": {},
   "outputs": [],
   "source": [
    "starting_point = \"Lists_of_companies\""
   ]
  },
  {
   "cell_type": "code",
   "execution_count": 72,
   "metadata": {},
   "outputs": [],
   "source": [
    "def create_database(starting_point):\n",
    "    conn = sqlite3.connect('abbmatch.db')\n",
    "\n",
    "    c = conn.cursor()\n",
    "\n",
    "    # Create tables\n",
    "    c.execute(\n",
    "        \"\"\"\n",
    "        CREATE TABLE IF NOT EXISTS link_map (\n",
    "            id INTEGER NOT NULL PRIMARY KEY AUTOINCREMENT, \n",
    "            parent_id INTEGER, link TEXT UNIQUE\n",
    "        )\n",
    "        \"\"\")\n",
    "\n",
    "    # Create table\n",
    "    c.execute(\n",
    "        \"\"\"\n",
    "        CREATE TABLE IF NOT EXISTS content (\n",
    "            id_link INTEGER, content TEXT, \n",
    "            title TEXT\n",
    "        )\n",
    "        \"\"\")\n",
    "\n",
    "    # Insert the starting point\n",
    "    c.execute(f\"INSERT OR IGNORE INTO link_map VALUES ('1', '-1', '{starting_point}')\")\n",
    "\n",
    "    # Save (commit) the changes\n",
    "    conn.commit()\n",
    "    conn.close()\n",
    "    \n",
    "def store_links(parent_id, link_list):\n",
    "    sql = F\"INSERT INTO link_map (parent_id, link) VALUES ({parent_id}, ?)\"\n",
    "    \n",
    "    conn = sqlite3.connect('abbmatch.db')\n",
    "    c = conn.cursor()\n",
    "    c.executemany(sql, [(l,) for l in link_list])\n",
    "    # Save (commit) the changes\n",
    "    conn.commit()\n",
    "    conn.close()\n",
    "    \n",
    "def _fetchall(sql):\n",
    "    conn = sqlite3.connect('abbmatch.db')\n",
    "    c = conn.cursor()\n",
    "    c.execute(sql)\n",
    "    res = c.fetchall()\n",
    "    # Save (commit) the changes\n",
    "    conn.commit()\n",
    "    conn.close()\n",
    "    return res\n",
    "    \n",
    "def select(col, table, where=None, limit=10):\n",
    "    col = col if isinstance(col, str) else ','.join(col)\n",
    "    where = F\"where {where}\" if where is not None else \"\"\n",
    "    sql = F\"SELECT {col} FROM {table} {where} limit {limit}\"\n",
    "    return _fetchall(sql)\n",
    "\n",
    "def get_unvisited_links(limit=30):\n",
    "    sql = F\"\"\"\n",
    "        SELECT id, link FROM link_map as A\n",
    "        LEFT JOIN content as B ON A.id=B.id_link\n",
    "        WHERE B.content is NULL ORDER BY ID\n",
    "        LIMIT {limit}\n",
    "    \"\"\"\n",
    "    return _fetchall(sql)\n",
    "    \n",
    "create_database(starting_point)"
   ]
  },
  {
   "cell_type": "code",
   "execution_count": 70,
   "metadata": {},
   "outputs": [],
   "source": []
  },
  {
   "cell_type": "code",
   "execution_count": 71,
   "metadata": {},
   "outputs": [
    {
     "data": {
      "text/plain": [
       "[(1, 'Lists_of_companies'),\n",
       " (2, 'Beer and breweries by region'),\n",
       " (3, 'Big Five law firms'),\n",
       " (4, 'Cymbal manufacturers'),\n",
       " (5, 'Forbes Global 2000'),\n",
       " (6, 'Fortune Global 500'),\n",
       " (7, 'List of 100 largest law firms by revenue'),\n",
       " (8, 'List of Arab companies'),\n",
       " (9, 'List of CAx companies'),\n",
       " (10, 'List of CIGS companies'),\n",
       " (11, 'List of Canadian mobile phone companies'),\n",
       " (12, 'List of Caribbean companies'),\n",
       " (13, 'List of Champagne houses'),\n",
       " (14, 'List of EDA companies'),\n",
       " (15, 'List of European power companies by carbon intensity'),\n",
       " (16, 'List of Evolution-Data Optimized network equipment suppliers'),\n",
       " (17, 'List of Fibre Channel switches'),\n",
       " (18, 'List of French electric utilities'),\n",
       " (19, 'List of OGL publishers'),\n",
       " (20, 'List of S&P 400 companies'),\n",
       " (21, 'List of S&P 500 companies'),\n",
       " (22, 'List of SRI International spin-offs'),\n",
       " (23, 'List of Six Sigma companies'),\n",
       " (24, 'List of United States wireless communications service providers'),\n",
       " (25, 'List of advertising technology companies'),\n",
       " (26, 'List of aerial lift manufacturers'),\n",
       " (27, 'List of aircraft manufacturers'),\n",
       " (28, 'List of airline holding companies'),\n",
       " (29, 'List of animation distribution companies'),\n",
       " (30, 'List of animation studios')]"
      ]
     },
     "execution_count": 71,
     "metadata": {},
     "output_type": "execute_result"
    }
   ],
   "source": [
    "unvisited"
   ]
  },
  {
   "cell_type": "code",
   "execution_count": 25,
   "metadata": {},
   "outputs": [],
   "source": []
  },
  {
   "cell_type": "code",
   "execution_count": 57,
   "metadata": {},
   "outputs": [],
   "source": [
    "store_links(1, wiki_obj.links)"
   ]
  },
  {
   "cell_type": "code",
   "execution_count": 73,
   "metadata": {},
   "outputs": [],
   "source": [
    "unvisited = get_unvisited_links()"
   ]
  },
  {
   "cell_type": "code",
   "execution_count": 75,
   "metadata": {},
   "outputs": [
    {
     "name": "stdout",
     "output_type": "stream",
     "text": [
      "1 Lists_of_companies\n"
     ]
    }
   ],
   "source": [
    "for id_, link in unvisited:\n",
    "    # Get the wiki object for the link\n",
    "    wiki_obj = wikipedia.WikipediaPage('Lists_of_companies')\n",
    "    id_, link"
   ]
  }
 ],
 "metadata": {
  "kernelspec": {
   "display_name": "Python 3",
   "language": "python",
   "name": "python3"
  },
  "language_info": {
   "codemirror_mode": {
    "name": "ipython",
    "version": 3
   },
   "file_extension": ".py",
   "mimetype": "text/x-python",
   "name": "python",
   "nbconvert_exporter": "python",
   "pygments_lexer": "ipython3",
   "version": "3.6.8"
  }
 },
 "nbformat": 4,
 "nbformat_minor": 4
}
