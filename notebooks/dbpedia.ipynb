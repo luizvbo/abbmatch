{
 "cells": [
  {
   "cell_type": "code",
   "execution_count": null,
   "metadata": {},
   "outputs": [],
   "source": [
    "from SPARQLWrapper import SPARQLWrapper\n",
    "import pandas as pd\n",
    "from sqlalchemy import create_engine\n",
    "\n",
    "query_companies = \"\"\"\n",
    "    PREFIX rdfs: <http://www.w3.org/2000/01/rdf-schema#>\n",
    "    PREFIX dbo: <http://dbpedia.org/ontology/>\n",
    "    SELECT ?org {{\n",
    "        SELECT DISTINCT ?org {{\n",
    "            ?org a/rdfs:subClassOf* dbo:Company .\n",
    "        }} ORDER BY ?org\n",
    "    }}\n",
    "    LIMIT {limit} OFFSET {offset}\n",
    "\"\"\"\n",
    "base_url = 'http://dbpedia.org/resource/'\n",
    "sparql = SPARQLWrapper(\"http://dbpedia.org/sparql\", returnFormat='csv')\n",
    "engine = create_engine('sqlite:///data/training_data.db')\n",
    "limit = 10000\n",
    "offset = 0\n",
    "iteration = 1\n",
    "\n",
    "while limit > 0:\n",
    "    sparql.setQuery(query_companies.format(limit=limit, offset=offset))\n",
    "    try:\n",
    "        print(f\"Loading comapanies from {offset+1} to {offset+limit}\")\n",
    "        ret = sparql.query().convert().decode().replace(\"\\\"\", \"\").split('\\n')\n",
    "        print(\"Parsing...\")\n",
    "        ret = [l.replace(base_url, '') for l in ret if base_url in l]\n",
    "        if len(ret) > 0:\n",
    "            print(\"Storing into db\")\n",
    "            df = pd.DataFrame(ret, columns=['name'])\n",
    "            df['iteration'] = iteration\n",
    "            df['source'] = 'dbp'\n",
    "            print(\"Data frame shape:\", df.shape)\n",
    "            df.to_sql('company_names', con=engine, if_exists='append')\n",
    "            offset += limit\n",
    "            iteration += 1\n",
    "        else:\n",
    "            limit = -1\n",
    "            print(\"Done!\")\n",
    "    except Exception as e:\n",
    "        limit = limit // 10\n",
    "        print(e)"
   ]
  },
  {
   "cell_type": "code",
   "execution_count": null,
   "metadata": {},
   "outputs": [],
   "source": [
    "import wikipedia\n",
    "\n",
    "page = wikipedia.page('&pizza', auto_suggest=False)"
   ]
  }
 ],
 "metadata": {
  "kernelspec": {
   "display_name": "Python 3",
   "language": "python",
   "name": "python3"
  },
  "language_info": {
   "codemirror_mode": {
    "name": "ipython",
    "version": 3
   },
   "file_extension": ".py",
   "mimetype": "text/x-python",
   "name": "python",
   "nbconvert_exporter": "python",
   "pygments_lexer": "ipython3",
   "version": "3.6.9"
  }
 },
 "nbformat": 4,
 "nbformat_minor": 4
}
